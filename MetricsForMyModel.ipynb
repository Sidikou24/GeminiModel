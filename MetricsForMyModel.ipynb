{
  "nbformat": 4,
  "nbformat_minor": 0,
  "metadata": {
    "colab": {
      "provenance": []
    },
    "kernelspec": {
      "name": "python3",
      "display_name": "Python 3"
    },
    "language_info": {
      "name": "python"
    }
  },
  "cells": [
    {
      "cell_type": "code",
      "execution_count": null,
      "metadata": {
        "colab": {
          "base_uri": "https://localhost:8080/"
        },
        "id": "Hp7tHZcg1X8o",
        "outputId": "26813d2d-16af-4e23-c3e4-402e7ba16030"
      },
      "outputs": [
        {
          "output_type": "stream",
          "name": "stdout",
          "text": [
            "Name: nltk\n",
            "Version: 3.8.1\n",
            "Summary: Natural Language Toolkit\n",
            "Home-page: https://www.nltk.org/\n",
            "Author: NLTK Team\n",
            "Author-email: nltk.team@gmail.com\n",
            "License: Apache License, Version 2.0\n",
            "Location: /usr/local/lib/python3.10/dist-packages\n",
            "Requires: click, joblib, regex, tqdm\n",
            "Required-by: textblob\n"
          ]
        }
      ],
      "source": [
        "!pip show nltk"
      ]
    },
    {
      "cell_type": "code",
      "source": [
        "!pip install rouge-score"
      ],
      "metadata": {
        "colab": {
          "base_uri": "https://localhost:8080/"
        },
        "id": "H0NqxOvn1ePe",
        "outputId": "23a0fbaf-5c5b-4e6f-d41d-06fc0b3c9bf9"
      },
      "execution_count": null,
      "outputs": [
        {
          "output_type": "stream",
          "name": "stdout",
          "text": [
            "Collecting rouge-score\n",
            "  Downloading rouge_score-0.1.2.tar.gz (17 kB)\n",
            "  Preparing metadata (setup.py) ... \u001b[?25l\u001b[?25hdone\n",
            "Requirement already satisfied: absl-py in /usr/local/lib/python3.10/dist-packages (from rouge-score) (1.4.0)\n",
            "Requirement already satisfied: nltk in /usr/local/lib/python3.10/dist-packages (from rouge-score) (3.8.1)\n",
            "Requirement already satisfied: numpy in /usr/local/lib/python3.10/dist-packages (from rouge-score) (1.25.2)\n",
            "Requirement already satisfied: six>=1.14.0 in /usr/local/lib/python3.10/dist-packages (from rouge-score) (1.16.0)\n",
            "Requirement already satisfied: click in /usr/local/lib/python3.10/dist-packages (from nltk->rouge-score) (8.1.7)\n",
            "Requirement already satisfied: joblib in /usr/local/lib/python3.10/dist-packages (from nltk->rouge-score) (1.4.2)\n",
            "Requirement already satisfied: regex>=2021.8.3 in /usr/local/lib/python3.10/dist-packages (from nltk->rouge-score) (2023.12.25)\n",
            "Requirement already satisfied: tqdm in /usr/local/lib/python3.10/dist-packages (from nltk->rouge-score) (4.66.4)\n",
            "Building wheels for collected packages: rouge-score\n",
            "  Building wheel for rouge-score (setup.py) ... \u001b[?25l\u001b[?25hdone\n",
            "  Created wheel for rouge-score: filename=rouge_score-0.1.2-py3-none-any.whl size=24933 sha256=2ed6fb613895c2c873c511296b4bf1fa220a1f3286ab504b1c3ebfe999b65a32\n",
            "  Stored in directory: /root/.cache/pip/wheels/5f/dd/89/461065a73be61a532ff8599a28e9beef17985c9e9c31e541b4\n",
            "Successfully built rouge-score\n",
            "Installing collected packages: rouge-score\n",
            "Successfully installed rouge-score-0.1.2\n"
          ]
        }
      ]
    },
    {
      "cell_type": "code",
      "source": [
        "from nltk.translate.bleu_score import sentence_bleu\n",
        "from rouge_score import rouge_scorer\n",
        "\n",
        "# Define a function to read the QCM files\n",
        "def read_file(filename):\n",
        "    with open(filename, 'r') as file:\n",
        "        return file.readlines()\n",
        "\n",
        "# Define a function to calculate BLEU score\n",
        "def calculate_bleu(reference, generated):\n",
        "    return sentence_bleu([reference.split()], generated.split())\n",
        "\n",
        "# Define a function to calculate ROUGE score\n",
        "def calculate_rouge(reference, generated):\n",
        "    scorer = rouge_scorer.RougeScorer(['rouge1', 'rougeL'], use_stemmer=True)\n",
        "    scores = scorer.score(reference, generated)\n",
        "    return scores\n",
        "\n",
        "# Create the reference and generated QCM content\n",
        "reference_qcm =  [\n",
        "\"1. Selon le texte, quelle est la PRINCIPALE raison pour laquelle une entreprise pourrait poursuivre son internationalisation ? a) Améliorer la visibilité de la marque et acquérir une reconnaissance internationale. b) Atténuer les risques associés à l'exploitation sur un marché unique. c) Pour accéder à un bassin plus large de talents et d’expertise. d) Trouver de nouvelles opportunités de croissance et augmenter les revenus.\",\n",
        "\"2. Le texte mentionne « l'émergence des BRICS » comme facteur influençant l'internationalisation. Qu’est-ce qui rend les pays BRICS attractifs pour l’expansion ? a) Leurs environnements politiques stables et leurs faibles taux de corruption. b) Leur croissance démographique rapide et l’expansion des classes moyennes et supérieures. c) Leur infrastructure technologique avancée et leur facilité de faire des affaires. d) Leurs fortes similitudes culturelles avec les marchés occidentaux.\",\n",
        "\"3. Lequel des éléments suivants n'est PAS un avantage de l'internationalisation mentionné dans le texte ? a) Réaliser des économies d’échelle et améliorer le retour sur investissement. b) Atténuer les risques associés à un marché unique. c) Éliminer le besoin d'adaptation ou de localisation du produit. d) Accéder à une clientèle plus large et plus diversifiée.\",\n",
        "\"4. Lequel des éléments suivants n'est PAS un avantage de l'internationalisation mentionné dans le texte ? a) Réaliser des économies d’échelle et améliorer le retour sur investissement. b) Atténuer les risques associés à un marché unique. c) Éliminer le besoin d'adaptation ou de localisation du produit. d) Accéder à une clientèle plus large et plus diversifiée.\",\n",
        "\"5. Le texte mentionne « l'émergence des BRICS » comme facteur influençant l'internationalisation. Qu’est-ce qui rend les pays BRICS attractifs pour l’expansion ? a) Leurs environnements politiques stables et leurs faibles taux de corruption. b) Leur croissance démographique rapide et l’expansion des classes moyennes et supérieures. c) Leur infrastructure technologique avancée et leur facilité de faire des affaires. d) Leurs fortes similitudes culturelles avec les marchés occidentaux.\",\n",
        "\"6. Lequel des éléments suivants n'est PAS cité comme un facteur ayant favorisé l'expansion des entreprises à l'international ? a) L'intégration de certains marchés (ex: Union Européenne). b) La baisse des coûts d'acheminement et des droits de douane. c) La diminution de la concurrence sur les marchés émergents. d) Les progrès technologiques dans les domaines de la communication et du transport.\"\n",
        "]\n",
        "\n",
        "generated_qcm =  [\n",
        "\"1. Selon le texte, quelle est la PRINCIPALE raison pour laquelle une entreprise pourrait poursuivre son internationalisation ? a) Améliorer la visibilité de la marque et acquérir une reconnaissance internationale. b) Atténuer les risques associés à l'exploitation sur un marché unique. c) Pour accéder à un bassin plus large de talents et d’expertise. d) Trouver de nouvelles opportunités de croissance et augmenter les revenus.\",\n",
        "\"2. Le texte mentionne « l'émergence des BRICS » comme facteur influençant l'internationalisation. Qu’est-ce qui rend les pays BRICS attractifs pour l’expansion ? a) Leurs environnements politiques stables et leurs faibles taux de corruption. b) Leur croissance démographique rapide et l’expansion des classes moyennes et supérieures. c) Leur infrastructure technologique avancée et leur facilité de faire des affaires. d) Leurs fortes similitudes culturelles avec les marchés occidentaux.\",\n",
        "\"3. Lequel des éléments suivants n'est PAS un avantage de l'internationalisation mentionné dans le texte ? a) Réaliser des économies d’échelle et améliorer le retour sur investissement. b) Atténuer les risques associés à un marché unique. c) Éliminer le besoin d'adaptation ou de localisation du produit. d) Accéder à une clientèle plus large et plus diversifiée.\",\n",
        "\"4. Le texte souligne l'importance de comprendre un nouveau marché avant de s'étendre. Que doit prendre en compte une entreprise lors de l’évaluation d’un nouveau marché international ? a) La disponibilité d'une main d'œuvre qualifiée et de matières premières. b) La stabilité politique et l'environnement réglementaire. c) Les normes culturelles et les préférences des consommateurs. Tout ce qui précède.\",\n",
        "\"5. Comment une entreprise peut-elle tirer parti de l’internationalisation pour améliorer la visibilité de sa marque ? a) En se concentrant uniquement sur des campagnes marketing mondiales pour créer une image de marque unifiée. b) En mettant en œuvre une combinaison de stratégies de marketing mondiales et locales pour toucher des publics diversifiés. c) En minimisant les investissements marketing et en s'appuyant sur le bouche-à-oreille pour renforcer la notoriété de la marque. d) En donnant la priorité à la visibilité de la marque sur le nouveau marché plutôt qu'à l'établissement d'une solide adéquation produit-marché.\",\n",
        "\"6. Une entreprise souhaite se développer à l’international pour accéder à une clientèle B2B plus large. Quel facteur clé cette entreprise devrait-elle privilégier pour attirer des clients commerciaux internationaux ? a) Démontrer la capacité à fournir un service cohérent et une offre cohérente sur plusieurs marchés. b) Concentrez-vous sur l'établissement de relations avec les entreprises locales avant de cibler les grandes sociétés internationales. c) Proposer des prix nettement inférieurs à ceux des concurrents, quitte à faire des compromis sur la qualité. d) Donner la priorité à la visibilité de la marque plutôt qu’à la construction d’une solide réputation de fiabilité et de satisfaction client.\"\n",
        "]\n",
        "\n",
        "# Calculate scores for each question\n",
        "bleu_scores = []\n",
        "rouge_scores = []\n",
        "\n",
        "for ref, gen in zip(reference_qcm, generated_qcm):\n",
        "    bleu = calculate_bleu(ref, gen)\n",
        "    rouge = calculate_rouge(ref, gen)\n",
        "    bleu_scores.append(bleu)\n",
        "    rouge_scores.append(rouge)\n",
        "\n",
        "# Calculate average scores\n",
        "average_bleu = sum(bleu_scores) / len(bleu_scores)\n",
        "average_rouge1 = sum(score['rouge1'].fmeasure for score in rouge_scores) / len(rouge_scores)\n",
        "average_rougeL = sum(score['rougeL'].fmeasure for score in rouge_scores) / len(rouge_scores)\n",
        "\n",
        "\n"
      ],
      "metadata": {
        "id": "93upthOO10At"
      },
      "execution_count": null,
      "outputs": []
    },
    {
      "cell_type": "code",
      "source": [
        "print(f\"Average BLEU Score: {average_bleu}\")\n",
        "print(f\"Average ROUGE-1 Score: {average_rouge1}\")\n",
        "print(f\"Average ROUGE-L Score: {average_rougeL}\")"
      ],
      "metadata": {
        "colab": {
          "base_uri": "https://localhost:8080/"
        },
        "id": "AAgITcJs2rPZ",
        "outputId": "e7f6642a-5595-45d8-9e58-f5f3a52a4ec6"
      },
      "execution_count": null,
      "outputs": [
        {
          "output_type": "stream",
          "name": "stdout",
          "text": [
            "Average BLEU Score: 0.5\n",
            "Average ROUGE-1 Score: 0.6574038397320304\n",
            "Average ROUGE-L Score: 0.5833003680128505\n"
          ]
        }
      ]
    },
    {
      "cell_type": "code",
      "source": [],
      "metadata": {
        "id": "xwuD3GKD3CX2"
      },
      "execution_count": null,
      "outputs": []
    }
  ]
}